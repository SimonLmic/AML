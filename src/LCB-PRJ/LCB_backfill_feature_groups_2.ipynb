{
  "cells": [
    {
      "cell_type": "code",
      "execution_count": null,
      "metadata": {
        "colab": {
          "base_uri": "https://localhost:8080/"
        },
        "id": "VUsy-X9NUz8B",
        "outputId": "8c9a581c-96a1-4aa1-bcb2-9d04432f8191"
      },
      "outputs": [
        {
          "name": "stdout",
          "output_type": "stream",
          "text": [
            "Python 3.7.15\n",
            "3.7.15 (default, Oct 12 2022, 19:14:55) \n",
            "[GCC 7.5.0]\n"
          ]
        }
      ],
      "source": [
        "import pandas as pd\n",
        "from datetime import datetime\n",
        "!python -V\n",
        "import sys;\n",
        "print(sys.version)"
      ]
    },
    {
      "cell_type": "code",
      "execution_count": null,
      "metadata": {
        "colab": {
          "base_uri": "https://localhost:8080/"
        },
        "id": "ImKh4Q7TVItY",
        "outputId": "d897e4fb-e23c-4562-b7ab-57942cfbb188"
      },
      "outputs": [
        {
          "name": "stdout",
          "output_type": "stream",
          "text": [
            "{'TRANSACTION_ID': 'transaction_id', 'TX_DATETIME': 'tx_datetime', 'CUSTOMER_ID': 'customer_id', 'TERMINAL_ID': 'terminal_id', 'TX_AMOUNT': 'tx_amount', 'TX_TIME_SECONDS': 'tx_time_seconds', 'TX_TIME_DAYS': 'tx_time_days', 'TX_FRAUD': 'tx_fraud', 'TX_FRAUD_SCENARIO': 'tx_fraud_scenario', 'TX_DURING_WEEKEND': 'tx_during_weekend', 'TX_DURING_NIGHT': 'tx_during_night', 'CUSTOMER_ID_NB_TX_1DAY_WINDOW': 'customer_id_nb_tx_1day_window', 'CUSTOMER_ID_AVG_AMOUNT_1DAY_WINDOW': 'customer_id_avg_amount_1day_window', 'CUSTOMER_ID_NB_TX_7DAY_WINDOW': 'customer_id_nb_tx_7day_window', 'CUSTOMER_ID_AVG_AMOUNT_7DAY_WINDOW': 'customer_id_avg_amount_7day_window', 'CUSTOMER_ID_NB_TX_30DAY_WINDOW': 'customer_id_nb_tx_30day_window', 'CUSTOMER_ID_AVG_AMOUNT_30DAY_WINDOW': 'customer_id_avg_amount_30day_window', 'TERMINAL_ID_NB_TX_1DAY_WINDOW': 'terminal_id_nb_tx_1day_window', 'TERMINAL_ID_RISK_1DAY_WINDOW': 'terminal_id_risk_1day_window', 'TERMINAL_ID_NB_TX_7DAY_WINDOW': 'terminal_id_nb_tx_7day_window', 'TERMINAL_ID_RISK_7DAY_WINDOW': 'terminal_id_risk_7day_window', 'TERMINAL_ID_NB_TX_30DAY_WINDOW': 'terminal_id_nb_tx_30day_window', 'TERMINAL_ID_RISK_30DAY_WINDOW': 'terminal_id_risk_30day_window'}\n",
            "0    2018-06-14 00:00:57\n",
            "1    2018-06-14 00:02:39\n",
            "2    2018-06-14 00:02:53\n",
            "3    2018-06-14 00:03:40\n",
            "4    2018-06-14 00:03:56\n",
            "Name: tx_datetime, dtype: object\n",
            "0    1528934457000\n",
            "1    1528934559000\n",
            "2    1528934573000\n",
            "3    1528934620000\n",
            "4    1528934636000\n",
            "Name: tx_datetime, dtype: int64\n"
          ]
        }
      ],
      "source": [
        "import numpy as np\n",
        "\n",
        "transactions_df = pd.read_csv('dataset.csv') #, index_col=0)\n",
        "\n",
        "transactions_df = transactions_df.drop(\"Unnamed: 0\",axis=1)\n",
        "\n",
        "colNames = {str(col): str(col).lower() for col in transactions_df.columns}\n",
        "print(colNames)\n",
        "\n",
        "transactions_df = transactions_df.rename(columns=colNames)\n",
        "print(transactions_df.tx_datetime.head())\n",
        "\n",
        "transactions_df.tx_datetime = pd.to_datetime(transactions_df.tx_datetime)\n",
        "\n",
        "def date_to_timestamp(date_obj: datetime)-> int:\n",
        "    return int(date_obj.timestamp() * 1000)\n",
        "\n",
        "transactions_df.tx_datetime = transactions_df.tx_datetime.map(lambda x: date_to_timestamp(x))\n",
        "\n",
        "#transactions_df.tx_datetime = transactions_df.tx_datetime.values.astype(np.int64)\n",
        "\n",
        "print(transactions_df.tx_datetime.head())\n",
        "\n",
        "#transactions_df.tx_datetime = transactions_df.tx_datetime.map(lambda x: transactions_df.to_timestamp(x))\n",
        "\n"
      ]
    },
    {
      "cell_type": "code",
      "execution_count": null,
      "metadata": {
        "colab": {
          "base_uri": "https://localhost:8080/"
        },
        "id": "PkXSuO1CbGg_",
        "outputId": "49d9f283-4cb4-463a-a9f5-53a48b6c408f"
      },
      "outputs": [
        {
          "name": "stdout",
          "output_type": "stream",
          "text": [
            "Mem. usage decreased to  8.41 Mb (72.3% reduction)\n"
          ]
        }
      ],
      "source": [
        "import numpy as np\n",
        "\n",
        "## Function to reduce the DF size\n",
        "def reduce_mem_usage(df, verbose=True):\n",
        "    numerics = ['int16', 'int32', 'int64', 'float16', 'float32', 'float64']\n",
        "    start_mem = df.memory_usage().sum() / 1024**2    \n",
        "    for col in df.columns:\n",
        "        col_type = df[col].dtypes\n",
        "        if col_type in numerics:\n",
        "            c_min = df[col].min()\n",
        "            c_max = df[col].max()\n",
        "            if str(col_type)[:3] == 'int':\n",
        "                if c_min > np.iinfo(np.int8).min and c_max < np.iinfo(np.int8).max:\n",
        "                    df[col] = df[col].astype(np.int8)\n",
        "                elif c_min > np.iinfo(np.int16).min and c_max < np.iinfo(np.int16).max:\n",
        "                    df[col] = df[col].astype(np.int16)\n",
        "                elif c_min > np.iinfo(np.int32).min and c_max < np.iinfo(np.int32).max:\n",
        "                    df[col] = df[col].astype(np.int32)\n",
        "                elif c_min > np.iinfo(np.int64).min and c_max < np.iinfo(np.int64).max:\n",
        "                    df[col] = df[col].astype(np.int64)  \n",
        "            else:\n",
        "                if c_min > np.finfo(np.float16).min and c_max < np.finfo(np.float16).max:\n",
        "                    df[col] = df[col].astype(np.float16)\n",
        "                elif c_min > np.finfo(np.float32).min and c_max < np.finfo(np.float32).max:\n",
        "                    df[col] = df[col].astype(np.float32)\n",
        "                else:\n",
        "                    df[col] = df[col].astype(np.float64)    \n",
        "    end_mem = df.memory_usage().sum() / 1024**2\n",
        "    if verbose: print('Mem. usage decreased to {:5.2f} Mb ({:.1f}% reduction)'.format(end_mem, 100 * (start_mem - end_mem) / start_mem))\n",
        "    return df\n",
        "\n",
        "df = reduce_mem_usage(transactions_df)  # attention ca prend pas le bon df en resultat transactions_df mais c'est fait dans la phase training "
      ]
    },
    {
      "cell_type": "code",
      "execution_count": null,
      "metadata": {
        "colab": {
          "base_uri": "https://localhost:8080/",
          "height": 424
        },
        "id": "ZB4pVAfsVKAb",
        "outputId": "3b609d52-3add-4c68-c6f8-2abd0fe3ddc8"
      },
      "outputs": [
        {
          "data": {
            "text/html": [
              "\n",
              "  <div id=\"df-20064cf4-0c5b-4891-99c9-d506e7e706e0\">\n",
              "    <div class=\"colab-df-container\">\n",
              "      <div>\n",
              "<style scoped>\n",
              "    .dataframe tbody tr th:only-of-type {\n",
              "        vertical-align: middle;\n",
              "    }\n",
              "\n",
              "    .dataframe tbody tr th {\n",
              "        vertical-align: top;\n",
              "    }\n",
              "\n",
              "    .dataframe thead th {\n",
              "        text-align: right;\n",
              "    }\n",
              "</style>\n",
              "<table border=\"1\" class=\"dataframe\">\n",
              "  <thead>\n",
              "    <tr style=\"text-align: right;\">\n",
              "      <th></th>\n",
              "      <th>tx_datetime</th>\n",
              "      <th>transaction_id</th>\n",
              "      <th>tx_fraud</th>\n",
              "    </tr>\n",
              "  </thead>\n",
              "  <tbody>\n",
              "    <tr>\n",
              "      <th>0</th>\n",
              "      <td>1528934457000</td>\n",
              "      <td>709627</td>\n",
              "      <td>0</td>\n",
              "    </tr>\n",
              "    <tr>\n",
              "      <th>1</th>\n",
              "      <td>1528934559000</td>\n",
              "      <td>709628</td>\n",
              "      <td>0</td>\n",
              "    </tr>\n",
              "    <tr>\n",
              "      <th>2</th>\n",
              "      <td>1528934573000</td>\n",
              "      <td>709629</td>\n",
              "      <td>0</td>\n",
              "    </tr>\n",
              "    <tr>\n",
              "      <th>3</th>\n",
              "      <td>1528934620000</td>\n",
              "      <td>709630</td>\n",
              "      <td>0</td>\n",
              "    </tr>\n",
              "    <tr>\n",
              "      <th>4</th>\n",
              "      <td>1528934636000</td>\n",
              "      <td>709631</td>\n",
              "      <td>0</td>\n",
              "    </tr>\n",
              "    <tr>\n",
              "      <th>...</th>\n",
              "      <td>...</td>\n",
              "      <td>...</td>\n",
              "      <td>...</td>\n",
              "    </tr>\n",
              "    <tr>\n",
              "      <th>172855</th>\n",
              "      <td>1530489483000</td>\n",
              "      <td>882482</td>\n",
              "      <td>0</td>\n",
              "    </tr>\n",
              "    <tr>\n",
              "      <th>172856</th>\n",
              "      <td>1530489490000</td>\n",
              "      <td>882483</td>\n",
              "      <td>0</td>\n",
              "    </tr>\n",
              "    <tr>\n",
              "      <th>172857</th>\n",
              "      <td>1530489490000</td>\n",
              "      <td>882484</td>\n",
              "      <td>0</td>\n",
              "    </tr>\n",
              "    <tr>\n",
              "      <th>172858</th>\n",
              "      <td>1530489528000</td>\n",
              "      <td>882485</td>\n",
              "      <td>1</td>\n",
              "    </tr>\n",
              "    <tr>\n",
              "      <th>172859</th>\n",
              "      <td>1530489567000</td>\n",
              "      <td>882486</td>\n",
              "      <td>0</td>\n",
              "    </tr>\n",
              "  </tbody>\n",
              "</table>\n",
              "<p>172860 rows × 3 columns</p>\n",
              "</div>\n",
              "      <button class=\"colab-df-convert\" onclick=\"convertToInteractive('df-20064cf4-0c5b-4891-99c9-d506e7e706e0')\"\n",
              "              title=\"Convert this dataframe to an interactive table.\"\n",
              "              style=\"display:none;\">\n",
              "        \n",
              "  <svg xmlns=\"http://www.w3.org/2000/svg\" height=\"24px\"viewBox=\"0 0 24 24\"\n",
              "       width=\"24px\">\n",
              "    <path d=\"M0 0h24v24H0V0z\" fill=\"none\"/>\n",
              "    <path d=\"M18.56 5.44l.94 2.06.94-2.06 2.06-.94-2.06-.94-.94-2.06-.94 2.06-2.06.94zm-11 1L8.5 8.5l.94-2.06 2.06-.94-2.06-.94L8.5 2.5l-.94 2.06-2.06.94zm10 10l.94 2.06.94-2.06 2.06-.94-2.06-.94-.94-2.06-.94 2.06-2.06.94z\"/><path d=\"M17.41 7.96l-1.37-1.37c-.4-.4-.92-.59-1.43-.59-.52 0-1.04.2-1.43.59L10.3 9.45l-7.72 7.72c-.78.78-.78 2.05 0 2.83L4 21.41c.39.39.9.59 1.41.59.51 0 1.02-.2 1.41-.59l7.78-7.78 2.81-2.81c.8-.78.8-2.07 0-2.86zM5.41 20L4 18.59l7.72-7.72 1.47 1.35L5.41 20z\"/>\n",
              "  </svg>\n",
              "      </button>\n",
              "      \n",
              "  <style>\n",
              "    .colab-df-container {\n",
              "      display:flex;\n",
              "      flex-wrap:wrap;\n",
              "      gap: 12px;\n",
              "    }\n",
              "\n",
              "    .colab-df-convert {\n",
              "      background-color: #E8F0FE;\n",
              "      border: none;\n",
              "      border-radius: 50%;\n",
              "      cursor: pointer;\n",
              "      display: none;\n",
              "      fill: #1967D2;\n",
              "      height: 32px;\n",
              "      padding: 0 0 0 0;\n",
              "      width: 32px;\n",
              "    }\n",
              "\n",
              "    .colab-df-convert:hover {\n",
              "      background-color: #E2EBFA;\n",
              "      box-shadow: 0px 1px 2px rgba(60, 64, 67, 0.3), 0px 1px 3px 1px rgba(60, 64, 67, 0.15);\n",
              "      fill: #174EA6;\n",
              "    }\n",
              "\n",
              "    [theme=dark] .colab-df-convert {\n",
              "      background-color: #3B4455;\n",
              "      fill: #D2E3FC;\n",
              "    }\n",
              "\n",
              "    [theme=dark] .colab-df-convert:hover {\n",
              "      background-color: #434B5C;\n",
              "      box-shadow: 0px 1px 3px 1px rgba(0, 0, 0, 0.15);\n",
              "      filter: drop-shadow(0px 1px 2px rgba(0, 0, 0, 0.3));\n",
              "      fill: #FFFFFF;\n",
              "    }\n",
              "  </style>\n",
              "\n",
              "      <script>\n",
              "        const buttonEl =\n",
              "          document.querySelector('#df-20064cf4-0c5b-4891-99c9-d506e7e706e0 button.colab-df-convert');\n",
              "        buttonEl.style.display =\n",
              "          google.colab.kernel.accessAllowed ? 'block' : 'none';\n",
              "\n",
              "        async function convertToInteractive(key) {\n",
              "          const element = document.querySelector('#df-20064cf4-0c5b-4891-99c9-d506e7e706e0');\n",
              "          const dataTable =\n",
              "            await google.colab.kernel.invokeFunction('convertToInteractive',\n",
              "                                                     [key], {});\n",
              "          if (!dataTable) return;\n",
              "\n",
              "          const docLinkHtml = 'Like what you see? Visit the ' +\n",
              "            '<a target=\"_blank\" href=https://colab.research.google.com/notebooks/data_table.ipynb>data table notebook</a>'\n",
              "            + ' to learn more about interactive tables.';\n",
              "          element.innerHTML = '';\n",
              "          dataTable['output_type'] = 'display_data';\n",
              "          await google.colab.output.renderOutput(dataTable, element);\n",
              "          const docLink = document.createElement('div');\n",
              "          docLink.innerHTML = docLinkHtml;\n",
              "          element.appendChild(docLink);\n",
              "        }\n",
              "      </script>\n",
              "    </div>\n",
              "  </div>\n",
              "  "
            ],
            "text/plain": [
              "          tx_datetime  transaction_id  tx_fraud\n",
              "0       1528934457000          709627         0\n",
              "1       1528934559000          709628         0\n",
              "2       1528934573000          709629         0\n",
              "3       1528934620000          709630         0\n",
              "4       1528934636000          709631         0\n",
              "...               ...             ...       ...\n",
              "172855  1530489483000          882482         0\n",
              "172856  1530489490000          882483         0\n",
              "172857  1530489490000          882484         0\n",
              "172858  1530489528000          882485         1\n",
              "172859  1530489567000          882486         0\n",
              "\n",
              "[172860 rows x 3 columns]"
            ]
          },
          "execution_count": 18,
          "metadata": {},
          "output_type": "execute_result"
        }
      ],
      "source": [
        "fraud_labels = transactions_df.copy()[[\"tx_datetime\",\"transaction_id\", \"tx_fraud\"]]\n",
        "fraud_labels #.read_csv('dataset_fraud.csv')"
      ]
    },
    {
      "cell_type": "code",
      "execution_count": null,
      "metadata": {},
      "outputs": [],
      "source": [
        "import dataframe_image as dfi\n",
        "\n",
        "df_recent = transactions_df.tail(5)\n",
        " \n",
        "# If you exclude this image, you may have the same iris_latest.png and iris_actual.png files\n",
        "# If no files have changed, the GH-action 'git commit/push' stage fails, failing your GH action (last step)\n",
        "# This image, however, is always new, ensuring git commit/push will succeed.\n",
        "dfi.export(df_recent, '../../assets/df_recent.png', table_conversion = 'matplotlib')"
      ]
    },
    {
      "cell_type": "code",
      "execution_count": null,
      "metadata": {
        "colab": {
          "base_uri": "https://localhost:8080/"
        },
        "id": "HeTXTKUTWkKG",
        "outputId": "60b0ee82-39c4-4206-c6f2-b70e73a36c09"
      },
      "outputs": [
        {
          "name": "stdout",
          "output_type": "stream",
          "text": [
            "\u001b[K     |████████████████████████████████| 120 kB 13.3 MB/s \n",
            "\u001b[K     |████████████████████████████████| 50 kB 6.0 MB/s \n",
            "\u001b[K     |████████████████████████████████| 132 kB 55.6 MB/s \n",
            "\u001b[K     |████████████████████████████████| 45 kB 2.7 MB/s \n",
            "\u001b[K     |████████████████████████████████| 68 kB 5.3 MB/s \n",
            "\u001b[K     |████████████████████████████████| 43 kB 1.5 MB/s \n",
            "\u001b[K     |████████████████████████████████| 4.9 MB 57.8 MB/s \n",
            "\u001b[K     |████████████████████████████████| 42 kB 1.4 MB/s \n",
            "\u001b[K     |████████████████████████████████| 2.8 MB 43.3 MB/s \n",
            "\u001b[K     |████████████████████████████████| 2.3 MB 48.4 MB/s \n",
            "\u001b[K     |████████████████████████████████| 67 kB 5.5 MB/s \n",
            "\u001b[K     |████████████████████████████████| 109 kB 71.1 MB/s \n",
            "\u001b[K     |████████████████████████████████| 4.1 MB 46.9 MB/s \n",
            "\u001b[K     |████████████████████████████████| 140 kB 54.7 MB/s \n",
            "\u001b[K     |████████████████████████████████| 1.6 MB 54.1 MB/s \n",
            "\u001b[K     |████████████████████████████████| 127 kB 47.0 MB/s \n",
            "\u001b[K     |████████████████████████████████| 500 kB 55.6 MB/s \n",
            "\u001b[K     |████████████████████████████████| 9.8 MB 44.5 MB/s \n",
            "\u001b[K     |████████████████████████████████| 79 kB 6.5 MB/s \n",
            "\u001b[K     |████████████████████████████████| 59 kB 6.4 MB/s \n",
            "\u001b[K     |████████████████████████████████| 57 kB 4.5 MB/s \n",
            "\u001b[K     |████████████████████████████████| 2.3 MB 50.6 MB/s \n",
            "\u001b[?25h  Building wheel for hopsworks (setup.py) ... \u001b[?25l\u001b[?25hdone\n",
            "  Building wheel for hsfs (setup.py) ... \u001b[?25l\u001b[?25hdone\n",
            "  Building wheel for avro (setup.py) ... \u001b[?25l\u001b[?25hdone\n",
            "  Building wheel for hsml (setup.py) ... \u001b[?25l\u001b[?25hdone\n",
            "  Building wheel for pyhopshive (setup.py) ... \u001b[?25l\u001b[?25hdone\n",
            "  Building wheel for thrift (setup.py) ... \u001b[?25l\u001b[?25hdone\n",
            "  Building wheel for twofish (setup.py) ... \u001b[?25l\u001b[?25hdone\n"
          ]
        }
      ],
      "source": [
        "!pip install -U hopsworks --quiet"
      ]
    },
    {
      "cell_type": "code",
      "execution_count": null,
      "metadata": {
        "colab": {
          "base_uri": "https://localhost:8080/"
        },
        "id": "lINKu8pvVLWW",
        "outputId": "0c4ec9a0-ccda-4345-bb74-9276a32148d5"
      },
      "outputs": [
        {
          "name": "stdout",
          "output_type": "stream",
          "text": [
            "Connection closed.\n",
            "Connected. Call `.close()` to terminate connection gracefully.\n",
            "\n",
            "Logged in to project, explore it here https://c.app.hopsworks.ai:443/p/3339\n",
            "Connected. Call `.close()` to terminate connection gracefully.\n"
          ]
        }
      ],
      "source": [
        "import hopsworks\n",
        "project = hopsworks.login()\n",
        "fs = project.get_feature_store()"
      ]
    },
    {
      "cell_type": "code",
      "execution_count": null,
      "metadata": {
        "id": "n4w9hQDLVMxl"
      },
      "outputs": [],
      "source": [
        "trans_fg = fs.get_or_create_feature_group(\n",
        "    name=\"trans_fraud\",\n",
        "    version=1,\n",
        "    description=\"Transactions\",\n",
        "    primary_key=[\"transaction_id\"],\n",
        "    event_time = \"tx_datetime\"\n",
        ")"
      ]
    },
    {
      "cell_type": "code",
      "execution_count": null,
      "metadata": {
        "colab": {
          "base_uri": "https://localhost:8080/",
          "height": 153,
          "referenced_widgets": [
            "51b44e18ada14c8cbf14f8382177f2cf",
            "10df8a5fa37841d39408bd650b773f17",
            "6551daa7c51e47a4929720c2dbc745fa",
            "b58e5c48c49b432eae6ce0a92203d388",
            "20ebf0f4c3964df4a05fef82bc571e57",
            "7d5f933959754fcc9545e18aa4325a24",
            "e30dae6eca0e4ea1bc949d84c6a3de46",
            "cd3dcc05b82b499da2b32446f45161c4",
            "c2543ae489914cb2a22c7a18ade0b6a0",
            "74ffca49f65847ea8180515ff8c16f05",
            "82f62dd267e749e39983b88ccea35467"
          ]
        },
        "id": "reVQJQjYVOAO",
        "outputId": "8fa5a869-6166-49ec-ccc1-2d32150e45f8"
      },
      "outputs": [
        {
          "name": "stdout",
          "output_type": "stream",
          "text": [
            "Feature Group created successfully, explore it at \n",
            "https://c.app.hopsworks.ai:443/p/3339/fs/3286/fg/4431\n"
          ]
        },
        {
          "data": {
            "application/vnd.jupyter.widget-view+json": {
              "model_id": "51b44e18ada14c8cbf14f8382177f2cf",
              "version_major": 2,
              "version_minor": 0
            },
            "text/plain": [
              "Uploading Dataframe: 0.00% |          | Rows 0/172860 | Elapsed Time: 00:00 | Remaining Time: ?"
            ]
          },
          "metadata": {},
          "output_type": "display_data"
        },
        {
          "name": "stdout",
          "output_type": "stream",
          "text": [
            "Launching offline feature group backfill job...\n",
            "Backfill Job started successfully, you can follow the progress at \n",
            "https://c.app.hopsworks.ai/p/3339/jobs/named/trans_fraud_1_offline_fg_backfill/executions\n"
          ]
        },
        {
          "data": {
            "text/plain": [
              "(<hsfs.core.job.Job at 0x7f4fe359a490>, None)"
            ]
          },
          "execution_count": 21,
          "metadata": {},
          "output_type": "execute_result"
        }
      ],
      "source": [
        "trans_fg.insert(transactions_df, write_options={\"wait_for_job\" : False})"
      ]
    },
    {
      "cell_type": "code",
      "execution_count": null,
      "metadata": {
        "id": "2dZD2ByYVPdM"
      },
      "outputs": [],
      "source": [
        "feature_descriptions = [\n",
        "    {\"name\": \"transaction_id\", \"description\": \"Transaction id\"}\n",
        "]\n",
        "\n",
        "for desc in feature_descriptions: \n",
        "    trans_fg.update_feature_description(desc[\"name\"], desc[\"description\"])"
      ]
    },
    {
      "cell_type": "code",
      "execution_count": null,
      "metadata": {
        "colab": {
          "base_uri": "https://localhost:8080/",
          "height": 136,
          "referenced_widgets": [
            "baf0b4975d04470aa5704f966c815935",
            "12827eb345204caab13f9b973e804b9b",
            "d4cb51f22f874be49a05053f4bec27b1",
            "5d58b97a1990416696a4cadfca155294",
            "7c9e1042333a4392b7d71eb900db7d9b",
            "ae6513337893469f8198e8110bc9a4fa",
            "9c60c99ad66c4b51a72916cc2f38aaef",
            "7deae03505cd4bb7a3fa6142f7400391",
            "72548ef8dee0448b920a08b4dfa5faf8",
            "1a83e8290d1c462f8c730ecc097ef8f0",
            "8b5df779f19f4f64b3eadb709e4bb9ce"
          ]
        },
        "id": "Pw7AC1gefvfU",
        "outputId": "13d05646-45d9-437d-9a64-0cfdb5b1f88a"
      },
      "outputs": [
        {
          "name": "stdout",
          "output_type": "stream",
          "text": [
            "Feature Group created successfully, explore it at \n",
            "https://c.app.hopsworks.ai:443/p/3339/fs/3286/fg/4432\n"
          ]
        },
        {
          "data": {
            "application/vnd.jupyter.widget-view+json": {
              "model_id": "baf0b4975d04470aa5704f966c815935",
              "version_major": 2,
              "version_minor": 0
            },
            "text/plain": [
              "Uploading Dataframe: 0.00% |          | Rows 0/172860 | Elapsed Time: 00:00 | Remaining Time: ?"
            ]
          },
          "metadata": {},
          "output_type": "display_data"
        },
        {
          "name": "stdout",
          "output_type": "stream",
          "text": [
            "Launching offline feature group backfill job...\n",
            "Backfill Job started successfully, you can follow the progress at \n",
            "https://c.app.hopsworks.ai/p/3339/jobs/named/transactions_fraud_label_1_offline_fg_backfill/executions\n"
          ]
        }
      ],
      "source": [
        "trans_label_fg = fs.get_or_create_feature_group(\n",
        "    name=\"transactions_fraud_label\",\n",
        "    version=1,\n",
        "    description=\"transactions that have been flagged as fraud\",\n",
        "    primary_key=['transaction_id'],\n",
        "    event_time = \"tx_datetime\"\n",
        ")\n",
        "\n",
        "trans_label_fg.insert(fraud_labels, write_options={\"wait_for_job\" : False})\n",
        "\n",
        "feature_descriptions = [\n",
        "    {\"name\": \"transaction_id\", \"description\": \"Transaction id\"},\n",
        "    {\"name\": \"tx_fraud\", \"description\": \"Whether the transaction was fraudulent or not\"}\n",
        "]\n",
        "\n",
        "for desc in feature_descriptions: \n",
        "    trans_label_fg.update_feature_description(desc[\"name\"], desc[\"description\"])"
      ]
    }
  ],
  "metadata": {
    "colab": {
      "collapsed_sections": [],
      "provenance": []
    },
    "kernelspec": {
      "display_name": "Python 3.8.13 ('base')",
      "language": "python",
      "name": "python3"
    },
    "language_info": {
      "name": "python",
      "version": "3.8.13"
    },
    "vscode": {
      "interpreter": {
        "hash": "9e55cbc806429468d605c9f369e707839c83966a105a69bbddd2e461ddc736ba"
      }
    },
    "widgets": {
      "application/vnd.jupyter.widget-state+json": {
        "10df8a5fa37841d39408bd650b773f17": {
          "model_module": "@jupyter-widgets/controls",
          "model_module_version": "1.5.0",
          "model_name": "HTMLModel",
          "state": {
            "_dom_classes": [],
            "_model_module": "@jupyter-widgets/controls",
            "_model_module_version": "1.5.0",
            "_model_name": "HTMLModel",
            "_view_count": null,
            "_view_module": "@jupyter-widgets/controls",
            "_view_module_version": "1.5.0",
            "_view_name": "HTMLView",
            "description": "",
            "description_tooltip": null,
            "layout": "IPY_MODEL_7d5f933959754fcc9545e18aa4325a24",
            "placeholder": "​",
            "style": "IPY_MODEL_e30dae6eca0e4ea1bc949d84c6a3de46",
            "value": "Uploading Dataframe: 100.00% "
          }
        },
        "12827eb345204caab13f9b973e804b9b": {
          "model_module": "@jupyter-widgets/controls",
          "model_module_version": "1.5.0",
          "model_name": "HTMLModel",
          "state": {
            "_dom_classes": [],
            "_model_module": "@jupyter-widgets/controls",
            "_model_module_version": "1.5.0",
            "_model_name": "HTMLModel",
            "_view_count": null,
            "_view_module": "@jupyter-widgets/controls",
            "_view_module_version": "1.5.0",
            "_view_name": "HTMLView",
            "description": "",
            "description_tooltip": null,
            "layout": "IPY_MODEL_ae6513337893469f8198e8110bc9a4fa",
            "placeholder": "​",
            "style": "IPY_MODEL_9c60c99ad66c4b51a72916cc2f38aaef",
            "value": "Uploading Dataframe: 100.00% "
          }
        },
        "1a83e8290d1c462f8c730ecc097ef8f0": {
          "model_module": "@jupyter-widgets/base",
          "model_module_version": "1.2.0",
          "model_name": "LayoutModel",
          "state": {
            "_model_module": "@jupyter-widgets/base",
            "_model_module_version": "1.2.0",
            "_model_name": "LayoutModel",
            "_view_count": null,
            "_view_module": "@jupyter-widgets/base",
            "_view_module_version": "1.2.0",
            "_view_name": "LayoutView",
            "align_content": null,
            "align_items": null,
            "align_self": null,
            "border": null,
            "bottom": null,
            "display": null,
            "flex": null,
            "flex_flow": null,
            "grid_area": null,
            "grid_auto_columns": null,
            "grid_auto_flow": null,
            "grid_auto_rows": null,
            "grid_column": null,
            "grid_gap": null,
            "grid_row": null,
            "grid_template_areas": null,
            "grid_template_columns": null,
            "grid_template_rows": null,
            "height": null,
            "justify_content": null,
            "justify_items": null,
            "left": null,
            "margin": null,
            "max_height": null,
            "max_width": null,
            "min_height": null,
            "min_width": null,
            "object_fit": null,
            "object_position": null,
            "order": null,
            "overflow": null,
            "overflow_x": null,
            "overflow_y": null,
            "padding": null,
            "right": null,
            "top": null,
            "visibility": null,
            "width": null
          }
        },
        "20ebf0f4c3964df4a05fef82bc571e57": {
          "model_module": "@jupyter-widgets/base",
          "model_module_version": "1.2.0",
          "model_name": "LayoutModel",
          "state": {
            "_model_module": "@jupyter-widgets/base",
            "_model_module_version": "1.2.0",
            "_model_name": "LayoutModel",
            "_view_count": null,
            "_view_module": "@jupyter-widgets/base",
            "_view_module_version": "1.2.0",
            "_view_name": "LayoutView",
            "align_content": null,
            "align_items": null,
            "align_self": null,
            "border": null,
            "bottom": null,
            "display": null,
            "flex": null,
            "flex_flow": null,
            "grid_area": null,
            "grid_auto_columns": null,
            "grid_auto_flow": null,
            "grid_auto_rows": null,
            "grid_column": null,
            "grid_gap": null,
            "grid_row": null,
            "grid_template_areas": null,
            "grid_template_columns": null,
            "grid_template_rows": null,
            "height": null,
            "justify_content": null,
            "justify_items": null,
            "left": null,
            "margin": null,
            "max_height": null,
            "max_width": null,
            "min_height": null,
            "min_width": null,
            "object_fit": null,
            "object_position": null,
            "order": null,
            "overflow": null,
            "overflow_x": null,
            "overflow_y": null,
            "padding": null,
            "right": null,
            "top": null,
            "visibility": null,
            "width": null
          }
        },
        "51b44e18ada14c8cbf14f8382177f2cf": {
          "model_module": "@jupyter-widgets/controls",
          "model_module_version": "1.5.0",
          "model_name": "HBoxModel",
          "state": {
            "_dom_classes": [],
            "_model_module": "@jupyter-widgets/controls",
            "_model_module_version": "1.5.0",
            "_model_name": "HBoxModel",
            "_view_count": null,
            "_view_module": "@jupyter-widgets/controls",
            "_view_module_version": "1.5.0",
            "_view_name": "HBoxView",
            "box_style": "",
            "children": [
              "IPY_MODEL_10df8a5fa37841d39408bd650b773f17",
              "IPY_MODEL_6551daa7c51e47a4929720c2dbc745fa",
              "IPY_MODEL_b58e5c48c49b432eae6ce0a92203d388"
            ],
            "layout": "IPY_MODEL_20ebf0f4c3964df4a05fef82bc571e57"
          }
        },
        "5d58b97a1990416696a4cadfca155294": {
          "model_module": "@jupyter-widgets/controls",
          "model_module_version": "1.5.0",
          "model_name": "HTMLModel",
          "state": {
            "_dom_classes": [],
            "_model_module": "@jupyter-widgets/controls",
            "_model_module_version": "1.5.0",
            "_model_name": "HTMLModel",
            "_view_count": null,
            "_view_module": "@jupyter-widgets/controls",
            "_view_module_version": "1.5.0",
            "_view_name": "HTMLView",
            "description": "",
            "description_tooltip": null,
            "layout": "IPY_MODEL_1a83e8290d1c462f8c730ecc097ef8f0",
            "placeholder": "​",
            "style": "IPY_MODEL_8b5df779f19f4f64b3eadb709e4bb9ce",
            "value": " Rows 172860/172860 | Elapsed Time: 00:06 | Remaining Time: 00:00"
          }
        },
        "6551daa7c51e47a4929720c2dbc745fa": {
          "model_module": "@jupyter-widgets/controls",
          "model_module_version": "1.5.0",
          "model_name": "FloatProgressModel",
          "state": {
            "_dom_classes": [],
            "_model_module": "@jupyter-widgets/controls",
            "_model_module_version": "1.5.0",
            "_model_name": "FloatProgressModel",
            "_view_count": null,
            "_view_module": "@jupyter-widgets/controls",
            "_view_module_version": "1.5.0",
            "_view_name": "ProgressView",
            "bar_style": "success",
            "description": "",
            "description_tooltip": null,
            "layout": "IPY_MODEL_cd3dcc05b82b499da2b32446f45161c4",
            "max": 172860,
            "min": 0,
            "orientation": "horizontal",
            "style": "IPY_MODEL_c2543ae489914cb2a22c7a18ade0b6a0",
            "value": 172860
          }
        },
        "72548ef8dee0448b920a08b4dfa5faf8": {
          "model_module": "@jupyter-widgets/controls",
          "model_module_version": "1.5.0",
          "model_name": "ProgressStyleModel",
          "state": {
            "_model_module": "@jupyter-widgets/controls",
            "_model_module_version": "1.5.0",
            "_model_name": "ProgressStyleModel",
            "_view_count": null,
            "_view_module": "@jupyter-widgets/base",
            "_view_module_version": "1.2.0",
            "_view_name": "StyleView",
            "bar_color": null,
            "description_width": ""
          }
        },
        "74ffca49f65847ea8180515ff8c16f05": {
          "model_module": "@jupyter-widgets/base",
          "model_module_version": "1.2.0",
          "model_name": "LayoutModel",
          "state": {
            "_model_module": "@jupyter-widgets/base",
            "_model_module_version": "1.2.0",
            "_model_name": "LayoutModel",
            "_view_count": null,
            "_view_module": "@jupyter-widgets/base",
            "_view_module_version": "1.2.0",
            "_view_name": "LayoutView",
            "align_content": null,
            "align_items": null,
            "align_self": null,
            "border": null,
            "bottom": null,
            "display": null,
            "flex": null,
            "flex_flow": null,
            "grid_area": null,
            "grid_auto_columns": null,
            "grid_auto_flow": null,
            "grid_auto_rows": null,
            "grid_column": null,
            "grid_gap": null,
            "grid_row": null,
            "grid_template_areas": null,
            "grid_template_columns": null,
            "grid_template_rows": null,
            "height": null,
            "justify_content": null,
            "justify_items": null,
            "left": null,
            "margin": null,
            "max_height": null,
            "max_width": null,
            "min_height": null,
            "min_width": null,
            "object_fit": null,
            "object_position": null,
            "order": null,
            "overflow": null,
            "overflow_x": null,
            "overflow_y": null,
            "padding": null,
            "right": null,
            "top": null,
            "visibility": null,
            "width": null
          }
        },
        "7c9e1042333a4392b7d71eb900db7d9b": {
          "model_module": "@jupyter-widgets/base",
          "model_module_version": "1.2.0",
          "model_name": "LayoutModel",
          "state": {
            "_model_module": "@jupyter-widgets/base",
            "_model_module_version": "1.2.0",
            "_model_name": "LayoutModel",
            "_view_count": null,
            "_view_module": "@jupyter-widgets/base",
            "_view_module_version": "1.2.0",
            "_view_name": "LayoutView",
            "align_content": null,
            "align_items": null,
            "align_self": null,
            "border": null,
            "bottom": null,
            "display": null,
            "flex": null,
            "flex_flow": null,
            "grid_area": null,
            "grid_auto_columns": null,
            "grid_auto_flow": null,
            "grid_auto_rows": null,
            "grid_column": null,
            "grid_gap": null,
            "grid_row": null,
            "grid_template_areas": null,
            "grid_template_columns": null,
            "grid_template_rows": null,
            "height": null,
            "justify_content": null,
            "justify_items": null,
            "left": null,
            "margin": null,
            "max_height": null,
            "max_width": null,
            "min_height": null,
            "min_width": null,
            "object_fit": null,
            "object_position": null,
            "order": null,
            "overflow": null,
            "overflow_x": null,
            "overflow_y": null,
            "padding": null,
            "right": null,
            "top": null,
            "visibility": null,
            "width": null
          }
        },
        "7d5f933959754fcc9545e18aa4325a24": {
          "model_module": "@jupyter-widgets/base",
          "model_module_version": "1.2.0",
          "model_name": "LayoutModel",
          "state": {
            "_model_module": "@jupyter-widgets/base",
            "_model_module_version": "1.2.0",
            "_model_name": "LayoutModel",
            "_view_count": null,
            "_view_module": "@jupyter-widgets/base",
            "_view_module_version": "1.2.0",
            "_view_name": "LayoutView",
            "align_content": null,
            "align_items": null,
            "align_self": null,
            "border": null,
            "bottom": null,
            "display": null,
            "flex": null,
            "flex_flow": null,
            "grid_area": null,
            "grid_auto_columns": null,
            "grid_auto_flow": null,
            "grid_auto_rows": null,
            "grid_column": null,
            "grid_gap": null,
            "grid_row": null,
            "grid_template_areas": null,
            "grid_template_columns": null,
            "grid_template_rows": null,
            "height": null,
            "justify_content": null,
            "justify_items": null,
            "left": null,
            "margin": null,
            "max_height": null,
            "max_width": null,
            "min_height": null,
            "min_width": null,
            "object_fit": null,
            "object_position": null,
            "order": null,
            "overflow": null,
            "overflow_x": null,
            "overflow_y": null,
            "padding": null,
            "right": null,
            "top": null,
            "visibility": null,
            "width": null
          }
        },
        "7deae03505cd4bb7a3fa6142f7400391": {
          "model_module": "@jupyter-widgets/base",
          "model_module_version": "1.2.0",
          "model_name": "LayoutModel",
          "state": {
            "_model_module": "@jupyter-widgets/base",
            "_model_module_version": "1.2.0",
            "_model_name": "LayoutModel",
            "_view_count": null,
            "_view_module": "@jupyter-widgets/base",
            "_view_module_version": "1.2.0",
            "_view_name": "LayoutView",
            "align_content": null,
            "align_items": null,
            "align_self": null,
            "border": null,
            "bottom": null,
            "display": null,
            "flex": null,
            "flex_flow": null,
            "grid_area": null,
            "grid_auto_columns": null,
            "grid_auto_flow": null,
            "grid_auto_rows": null,
            "grid_column": null,
            "grid_gap": null,
            "grid_row": null,
            "grid_template_areas": null,
            "grid_template_columns": null,
            "grid_template_rows": null,
            "height": null,
            "justify_content": null,
            "justify_items": null,
            "left": null,
            "margin": null,
            "max_height": null,
            "max_width": null,
            "min_height": null,
            "min_width": null,
            "object_fit": null,
            "object_position": null,
            "order": null,
            "overflow": null,
            "overflow_x": null,
            "overflow_y": null,
            "padding": null,
            "right": null,
            "top": null,
            "visibility": null,
            "width": null
          }
        },
        "82f62dd267e749e39983b88ccea35467": {
          "model_module": "@jupyter-widgets/controls",
          "model_module_version": "1.5.0",
          "model_name": "DescriptionStyleModel",
          "state": {
            "_model_module": "@jupyter-widgets/controls",
            "_model_module_version": "1.5.0",
            "_model_name": "DescriptionStyleModel",
            "_view_count": null,
            "_view_module": "@jupyter-widgets/base",
            "_view_module_version": "1.2.0",
            "_view_name": "StyleView",
            "description_width": ""
          }
        },
        "8b5df779f19f4f64b3eadb709e4bb9ce": {
          "model_module": "@jupyter-widgets/controls",
          "model_module_version": "1.5.0",
          "model_name": "DescriptionStyleModel",
          "state": {
            "_model_module": "@jupyter-widgets/controls",
            "_model_module_version": "1.5.0",
            "_model_name": "DescriptionStyleModel",
            "_view_count": null,
            "_view_module": "@jupyter-widgets/base",
            "_view_module_version": "1.2.0",
            "_view_name": "StyleView",
            "description_width": ""
          }
        },
        "9c60c99ad66c4b51a72916cc2f38aaef": {
          "model_module": "@jupyter-widgets/controls",
          "model_module_version": "1.5.0",
          "model_name": "DescriptionStyleModel",
          "state": {
            "_model_module": "@jupyter-widgets/controls",
            "_model_module_version": "1.5.0",
            "_model_name": "DescriptionStyleModel",
            "_view_count": null,
            "_view_module": "@jupyter-widgets/base",
            "_view_module_version": "1.2.0",
            "_view_name": "StyleView",
            "description_width": ""
          }
        },
        "ae6513337893469f8198e8110bc9a4fa": {
          "model_module": "@jupyter-widgets/base",
          "model_module_version": "1.2.0",
          "model_name": "LayoutModel",
          "state": {
            "_model_module": "@jupyter-widgets/base",
            "_model_module_version": "1.2.0",
            "_model_name": "LayoutModel",
            "_view_count": null,
            "_view_module": "@jupyter-widgets/base",
            "_view_module_version": "1.2.0",
            "_view_name": "LayoutView",
            "align_content": null,
            "align_items": null,
            "align_self": null,
            "border": null,
            "bottom": null,
            "display": null,
            "flex": null,
            "flex_flow": null,
            "grid_area": null,
            "grid_auto_columns": null,
            "grid_auto_flow": null,
            "grid_auto_rows": null,
            "grid_column": null,
            "grid_gap": null,
            "grid_row": null,
            "grid_template_areas": null,
            "grid_template_columns": null,
            "grid_template_rows": null,
            "height": null,
            "justify_content": null,
            "justify_items": null,
            "left": null,
            "margin": null,
            "max_height": null,
            "max_width": null,
            "min_height": null,
            "min_width": null,
            "object_fit": null,
            "object_position": null,
            "order": null,
            "overflow": null,
            "overflow_x": null,
            "overflow_y": null,
            "padding": null,
            "right": null,
            "top": null,
            "visibility": null,
            "width": null
          }
        },
        "b58e5c48c49b432eae6ce0a92203d388": {
          "model_module": "@jupyter-widgets/controls",
          "model_module_version": "1.5.0",
          "model_name": "HTMLModel",
          "state": {
            "_dom_classes": [],
            "_model_module": "@jupyter-widgets/controls",
            "_model_module_version": "1.5.0",
            "_model_name": "HTMLModel",
            "_view_count": null,
            "_view_module": "@jupyter-widgets/controls",
            "_view_module_version": "1.5.0",
            "_view_name": "HTMLView",
            "description": "",
            "description_tooltip": null,
            "layout": "IPY_MODEL_74ffca49f65847ea8180515ff8c16f05",
            "placeholder": "​",
            "style": "IPY_MODEL_82f62dd267e749e39983b88ccea35467",
            "value": " Rows 172860/172860 | Elapsed Time: 00:21 | Remaining Time: 00:00"
          }
        },
        "baf0b4975d04470aa5704f966c815935": {
          "model_module": "@jupyter-widgets/controls",
          "model_module_version": "1.5.0",
          "model_name": "HBoxModel",
          "state": {
            "_dom_classes": [],
            "_model_module": "@jupyter-widgets/controls",
            "_model_module_version": "1.5.0",
            "_model_name": "HBoxModel",
            "_view_count": null,
            "_view_module": "@jupyter-widgets/controls",
            "_view_module_version": "1.5.0",
            "_view_name": "HBoxView",
            "box_style": "",
            "children": [
              "IPY_MODEL_12827eb345204caab13f9b973e804b9b",
              "IPY_MODEL_d4cb51f22f874be49a05053f4bec27b1",
              "IPY_MODEL_5d58b97a1990416696a4cadfca155294"
            ],
            "layout": "IPY_MODEL_7c9e1042333a4392b7d71eb900db7d9b"
          }
        },
        "c2543ae489914cb2a22c7a18ade0b6a0": {
          "model_module": "@jupyter-widgets/controls",
          "model_module_version": "1.5.0",
          "model_name": "ProgressStyleModel",
          "state": {
            "_model_module": "@jupyter-widgets/controls",
            "_model_module_version": "1.5.0",
            "_model_name": "ProgressStyleModel",
            "_view_count": null,
            "_view_module": "@jupyter-widgets/base",
            "_view_module_version": "1.2.0",
            "_view_name": "StyleView",
            "bar_color": null,
            "description_width": ""
          }
        },
        "cd3dcc05b82b499da2b32446f45161c4": {
          "model_module": "@jupyter-widgets/base",
          "model_module_version": "1.2.0",
          "model_name": "LayoutModel",
          "state": {
            "_model_module": "@jupyter-widgets/base",
            "_model_module_version": "1.2.0",
            "_model_name": "LayoutModel",
            "_view_count": null,
            "_view_module": "@jupyter-widgets/base",
            "_view_module_version": "1.2.0",
            "_view_name": "LayoutView",
            "align_content": null,
            "align_items": null,
            "align_self": null,
            "border": null,
            "bottom": null,
            "display": null,
            "flex": null,
            "flex_flow": null,
            "grid_area": null,
            "grid_auto_columns": null,
            "grid_auto_flow": null,
            "grid_auto_rows": null,
            "grid_column": null,
            "grid_gap": null,
            "grid_row": null,
            "grid_template_areas": null,
            "grid_template_columns": null,
            "grid_template_rows": null,
            "height": null,
            "justify_content": null,
            "justify_items": null,
            "left": null,
            "margin": null,
            "max_height": null,
            "max_width": null,
            "min_height": null,
            "min_width": null,
            "object_fit": null,
            "object_position": null,
            "order": null,
            "overflow": null,
            "overflow_x": null,
            "overflow_y": null,
            "padding": null,
            "right": null,
            "top": null,
            "visibility": null,
            "width": null
          }
        },
        "d4cb51f22f874be49a05053f4bec27b1": {
          "model_module": "@jupyter-widgets/controls",
          "model_module_version": "1.5.0",
          "model_name": "FloatProgressModel",
          "state": {
            "_dom_classes": [],
            "_model_module": "@jupyter-widgets/controls",
            "_model_module_version": "1.5.0",
            "_model_name": "FloatProgressModel",
            "_view_count": null,
            "_view_module": "@jupyter-widgets/controls",
            "_view_module_version": "1.5.0",
            "_view_name": "ProgressView",
            "bar_style": "success",
            "description": "",
            "description_tooltip": null,
            "layout": "IPY_MODEL_7deae03505cd4bb7a3fa6142f7400391",
            "max": 172860,
            "min": 0,
            "orientation": "horizontal",
            "style": "IPY_MODEL_72548ef8dee0448b920a08b4dfa5faf8",
            "value": 172860
          }
        },
        "e30dae6eca0e4ea1bc949d84c6a3de46": {
          "model_module": "@jupyter-widgets/controls",
          "model_module_version": "1.5.0",
          "model_name": "DescriptionStyleModel",
          "state": {
            "_model_module": "@jupyter-widgets/controls",
            "_model_module_version": "1.5.0",
            "_model_name": "DescriptionStyleModel",
            "_view_count": null,
            "_view_module": "@jupyter-widgets/base",
            "_view_module_version": "1.2.0",
            "_view_name": "StyleView",
            "description_width": ""
          }
        }
      }
    }
  },
  "nbformat": 4,
  "nbformat_minor": 0
}
