{
  "cells": [
    {
      "cell_type": "code",
      "execution_count": null,
      "metadata": {
        "id": "IbS6HBzzfcVu"
      },
      "outputs": [],
      "source": [
        "!pip install hopsworks"
      ]
    },
    {
      "cell_type": "code",
      "execution_count": 1,
      "metadata": {
        "colab": {
          "base_uri": "https://localhost:8080/"
        },
        "id": "hGXKNMSADrEw",
        "outputId": "5d94161a-711a-4024-d6fc-b44555af07d2"
      },
      "outputs": [
        {
          "name": "stdout",
          "output_type": "stream",
          "text": [
            "Python 3.7.15\n",
            "3.7.15 (default, Oct 12 2022, 19:14:55) \n",
            "[GCC 7.5.0]\n"
          ]
        }
      ],
      "source": [
        "import pandas as pd\n",
        "from datetime import datetime\n",
        "!python -V\n",
        "import sys;\n",
        "print(sys.version)"
      ]
    },
    {
      "cell_type": "code",
      "execution_count": 2,
      "metadata": {
        "colab": {
          "base_uri": "https://localhost:8080/"
        },
        "id": "BkBuykqJECF9",
        "outputId": "2d5eca4d-7998-4330-c8fc-a499bfa0029e"
      },
      "outputs": [
        {
          "name": "stdout",
          "output_type": "stream",
          "text": [
            "  % Total    % Received % Xferd  Average Speed   Time    Time     Time  Current\n",
            "                                 Dload  Upload   Total   Spent    Left  Speed\n",
            "100 63257  100 63257    0     0   278k      0 --:--:-- --:--:-- --:--:--  278k\n",
            "Cloning into 'simulated-data-transformed'...\n",
            "remote: Enumerating objects: 189, done.\u001b[K\n",
            "remote: Counting objects: 100% (3/3), done.\u001b[K\n",
            "remote: Total 189 (delta 0), reused 3 (delta 0), pack-reused 186\u001b[K\n",
            "Receiving objects: 100% (189/189), 70.08 MiB | 13.16 MiB/s, done.\n",
            "Resolving deltas: 100% (3/3), done.\n",
            "Checking out files: 100% (184/184), done.\n"
          ]
        }
      ],
      "source": [
        "# Initialization: Load shared functions and simulated data \n",
        "import os \n",
        "\n",
        "# Load shared functions\n",
        "!curl -O https://raw.githubusercontent.com/Fraud-Detection-Handbook/fraud-detection-handbook/main/Chapter_References/shared_functions.py\n",
        "%run shared_functions.py\n",
        "\n",
        "# Get simulated data from Github repository\n",
        "if not os.path.exists(\"simulated-data-transformed\"):\n",
        "    !git clone https://github.com/Fraud-Detection-Handbook/simulated-data-transformed"
      ]
    },
    {
      "cell_type": "code",
      "execution_count": 3,
      "metadata": {
        "colab": {
          "base_uri": "https://localhost:8080/"
        },
        "id": "bzcb5m_uONDF",
        "outputId": "a2702989-d755-45c0-fa31-847486bce493"
      },
      "outputs": [
        {
          "name": "stdout",
          "output_type": "stream",
          "text": [
            "Load  files\n",
            "CPU times: user 562 ms, sys: 612 ms, total: 1.17 s\n",
            "Wall time: 1.2 s\n",
            "919767 transactions loaded, containing 8195 fraudulent transactions\n"
          ]
        }
      ],
      "source": [
        "DIR_INPUT='simulated-data-transformed/data/' \n",
        "\n",
        "BEGIN_DATE = \"2018-06-11\"\n",
        "END_DATE = \"2018-09-14\"\n",
        "\n",
        "print(\"Load  files\")\n",
        "%time transactions_df=read_from_files(DIR_INPUT, BEGIN_DATE, END_DATE)\n",
        "print(\"{0} transactions loaded, containing {1} fraudulent transactions\".format(len(transactions_df),transactions_df.TX_FRAUD.sum()))\n",
        "\n",
        "output_feature=\"TX_FRAUD\"\n",
        "\n",
        "input_features=['TX_AMOUNT','TX_DURING_WEEKEND', 'TX_DURING_NIGHT', 'CUSTOMER_ID_NB_TX_1DAY_WINDOW',\n",
        "       'CUSTOMER_ID_AVG_AMOUNT_1DAY_WINDOW', 'CUSTOMER_ID_NB_TX_7DAY_WINDOW',\n",
        "       'CUSTOMER_ID_AVG_AMOUNT_7DAY_WINDOW', 'CUSTOMER_ID_NB_TX_30DAY_WINDOW',\n",
        "       'CUSTOMER_ID_AVG_AMOUNT_30DAY_WINDOW', 'TERMINAL_ID_NB_TX_1DAY_WINDOW',\n",
        "       'TERMINAL_ID_RISK_1DAY_WINDOW', 'TERMINAL_ID_NB_TX_7DAY_WINDOW',\n",
        "       'TERMINAL_ID_RISK_7DAY_WINDOW', 'TERMINAL_ID_NB_TX_30DAY_WINDOW',\n",
        "       'TERMINAL_ID_RISK_30DAY_WINDOW']"
      ]
    },
    {
      "cell_type": "code",
      "execution_count": null,
      "metadata": {
        "id": "r9JJK-Pt4MY-"
      },
      "outputs": [],
      "source": [
        "#!sudo update-alternatives --install /usr/bin/python3 python3 /usr/bin/python3.7 1\n",
        "#!sudo update-alternatives --config python3\n",
        "!wget -O mini.sh https://repo.anaconda.com/miniconda/Miniconda3-py38_4.8.2-Linux-x86_64.sh\n",
        "!chmod +x mini.sh\n",
        "!bash ./mini.sh -b -f -p /usr/local\n",
        "!conda install -q -y jupyter\n",
        "!conda install -q -y google-colab -c conda-forge\n",
        "!python -m ipykernel install --name \"py38\" --user\n"
      ]
    },
    {
      "cell_type": "code",
      "execution_count": null,
      "metadata": {
        "id": "mNPaVp3oLtZg"
      },
      "outputs": [],
      "source": [
        "!which -a pip\n",
        "!conda config --set offline false\n",
        "!jupyter kernelspec list\n",
        "sys.path.append('/usr/local/lib/python3.8/site-packages/')\n",
        "import hopsworks"
      ]
    },
    {
      "cell_type": "code",
      "execution_count": 4,
      "metadata": {
        "colab": {
          "base_uri": "https://localhost:8080/"
        },
        "id": "QgzSg189OPCx",
        "outputId": "c98a4a56-416e-41f2-ac2d-dbf438d0989c"
      },
      "outputs": [
        {
          "name": "stdout",
          "output_type": "stream",
          "text": [
            "12.50     162\n",
            "9.00      161\n",
            "8.61      160\n",
            "7.91      160\n",
            "9.52      159\n",
            "         ... \n",
            "297.50      1\n",
            "413.10      1\n",
            "213.91      1\n",
            "178.07      1\n",
            "200.00      1\n",
            "Name: TX_AMOUNT, Length: 22401, dtype: int64\n",
            "10.95     21\n",
            "10.54     20\n",
            "9.47      20\n",
            "6.75      19\n",
            "7.68      19\n",
            "          ..\n",
            "134.92     1\n",
            "171.91     1\n",
            "137.26     1\n",
            "151.71     1\n",
            "36.15      1\n",
            "Name: TX_AMOUNT, Length: 14982, dtype: int64\n",
            "(67180, 23)\n",
            "(58330, 23)\n",
            "-1.021093    21\n",
            "-1.056416    20\n",
            "-1.030878    20\n",
            "-1.103912    19\n",
            "-1.099138    19\n",
            "             ..\n",
            " 1.506437     1\n",
            " 2.561126     1\n",
            " 0.222385     1\n",
            " 2.487616     1\n",
            "-0.419641     1\n",
            "Name: TX_AMOUNT, Length: 14980, dtype: int64\n"
          ]
        }
      ],
      "source": [
        "# Setting the starting day for the training period, and the deltas\n",
        "start_date_training = datetime.datetime.strptime(BEGIN_DATE, \"%Y-%m-%d\")\n",
        "delta_train=7\n",
        "delta_delay=7\n",
        "delta_test=7\n",
        "\n",
        "print(transactions_df.TX_AMOUNT.value_counts())\n",
        "\n",
        "(train_df, test_df)=get_train_test_set(transactions_df,start_date_training,\n",
        "                                       delta_train=delta_train,delta_delay=delta_delay,delta_test=delta_test)\n",
        "print(train_df.TX_AMOUNT.value_counts())\n",
        "print( train_df.shape)\n",
        "print( test_df.shape)\n",
        "# By default, scaling the input data\n",
        "(train_df, test_df)=scaleData(train_df,test_df,input_features)\n",
        "\n",
        "print(train_df.TX_AMOUNT.value_counts())"
      ]
    },
    {
      "cell_type": "code",
      "execution_count": 15,
      "metadata": {
        "colab": {
          "base_uri": "https://localhost:8080/"
        },
        "id": "y3ghbM_vD4Yq",
        "outputId": "43520bf2-b051-40e7-b162-75da31ff8827"
      },
      "outputs": [
        {
          "data": {
            "text/plain": [
              "['transaction_id',\n",
              " 'tx_datetime',\n",
              " 'customer_id',\n",
              " 'terminal_id',\n",
              " 'tx_amount',\n",
              " 'tx_time_seconds',\n",
              " 'tx_time_days',\n",
              " 'tx_fraud',\n",
              " 'tx_fraud_scenario',\n",
              " 'tx_during_weekend',\n",
              " 'tx_during_night',\n",
              " 'customer_id_nb_tx_1day_window',\n",
              " 'customer_id_avg_amount_1day_window',\n",
              " 'customer_id_nb_tx_7day_window',\n",
              " 'customer_id_avg_amount_7day_window',\n",
              " 'customer_id_nb_tx_30day_window',\n",
              " 'customer_id_avg_amount_30day_window',\n",
              " 'terminal_id_nb_tx_1day_window',\n",
              " 'terminal_id_risk_1day_window',\n",
              " 'terminal_id_nb_tx_7day_window',\n",
              " 'terminal_id_risk_7day_window',\n",
              " 'terminal_id_nb_tx_30day_window',\n",
              " 'terminal_id_risk_30day_window']"
            ]
          },
          "execution_count": 15,
          "metadata": {},
          "output_type": "execute_result"
        }
      ],
      "source": [
        "[x.lower() for x in train_df.columns.to_list()]"
      ]
    },
    {
      "cell_type": "code",
      "execution_count": null,
      "metadata": {
        "id": "XXqKsz8lECbg"
      },
      "outputs": [],
      "source": [
        "test_df"
      ]
    },
    {
      "cell_type": "code",
      "execution_count": null,
      "metadata": {
        "id": "zYdAYNR2OYwO"
      },
      "outputs": [],
      "source": [
        "## Function to reduce the DF size\n",
        "def reduce_mem_usage(df, verbose=True):\n",
        "    numerics = ['int16', 'int32', 'int64', 'float16', 'float32', 'float64']\n",
        "    start_mem = df.memory_usage().sum() / 1024**2    \n",
        "    for col in df.columns:\n",
        "        col_type = df[col].dtypes\n",
        "        if col_type in numerics:\n",
        "            c_min = df[col].min()\n",
        "            c_max = df[col].max()\n",
        "            if str(col_type)[:3] == 'int':\n",
        "                if c_min > np.iinfo(np.int8).min and c_max < np.iinfo(np.int8).max:\n",
        "                    df[col] = df[col].astype(np.int8)\n",
        "                elif c_min > np.iinfo(np.int16).min and c_max < np.iinfo(np.int16).max:\n",
        "                    df[col] = df[col].astype(np.int16)\n",
        "                elif c_min > np.iinfo(np.int32).min and c_max < np.iinfo(np.int32).max:\n",
        "                    df[col] = df[col].astype(np.int32)\n",
        "                elif c_min > np.iinfo(np.int64).min and c_max < np.iinfo(np.int64).max:\n",
        "                    df[col] = df[col].astype(np.int64)  \n",
        "            else:\n",
        "                if c_min > np.finfo(np.float16).min and c_max < np.finfo(np.float16).max:\n",
        "                    df[col] = df[col].astype(np.float16)\n",
        "                elif c_min > np.finfo(np.float32).min and c_max < np.finfo(np.float32).max:\n",
        "                    df[col] = df[col].astype(np.float32)\n",
        "                else:\n",
        "                    df[col] = df[col].astype(np.float64)    \n",
        "    end_mem = df.memory_usage().sum() / 1024**2\n",
        "    if verbose: print('Mem. usage decreased to {:5.2f} Mb ({:.1f}% reduction)'.format(end_mem, 100 * (start_mem - end_mem) / start_mem))\n",
        "    return df\n",
        "\n",
        "train_df = reduce_mem_usage(train_df)\n",
        "test_df = reduce_mem_usage(test_df)\n",
        "#transactions_df.to_pickle('dataset.pkl')\n",
        "\n",
        "train_df[input_features].info()"
      ]
    },
    {
      "cell_type": "markdown",
      "metadata": {
        "id": "M1oJNfmmqQGg"
      },
      "source": [
        "🛠️ Feature Engineering"
      ]
    },
    {
      "cell_type": "code",
      "execution_count": null,
      "metadata": {
        "colab": {
          "base_uri": "https://localhost:8080/",
          "height": 165
        },
        "id": "KcD5quopThQD",
        "outputId": "d3240340-9944-4eab-d3ee-cd93cf84e124"
      },
      "outputs": [
        {
          "ename": "NameError",
          "evalue": "ignored",
          "output_type": "error",
          "traceback": [
            "\u001b[0;31m---------------------------------------------------------------------------\u001b[0m",
            "\u001b[0;31mNameError\u001b[0m                                 Traceback (most recent call last)",
            "\u001b[0;32m<ipython-input-2-6823ac931b62>\u001b[0m in \u001b[0;36m<module>\u001b[0;34m\u001b[0m\n\u001b[0;32m----> 1\u001b[0;31m \u001b[0mtransactions_df\u001b[0m\u001b[0;34m.\u001b[0m\u001b[0mto_pickle\u001b[0m\u001b[0;34m(\u001b[0m\u001b[0;34m'dataset.pkl'\u001b[0m\u001b[0;34m)\u001b[0m\u001b[0;34m\u001b[0m\u001b[0;34m\u001b[0m\u001b[0m\n\u001b[0m",
            "\u001b[0;31mNameError\u001b[0m: name 'transactions_df' is not defined"
          ]
        }
      ],
      "source": [
        "train_df.to_pickle('dataset.pkl')"
      ]
    },
    {
      "cell_type": "code",
      "execution_count": null,
      "metadata": {
        "id": "Sj5UfV6Dqo0l"
      },
      "outputs": [],
      "source": [
        "fraud_labels = transactions_df.copy()[[\"TRANSACTION_ID\", \"TX_FRAUD\"]]\n",
        "fraud_labels.to_pickle('dataset_fraud.pkl')"
      ]
    }
  ],
  "metadata": {
    "colab": {
      "collapsed_sections": [],
      "provenance": []
    },
    "kernelspec": {
      "display_name": "Python 3.7.2rc1 64-bit",
      "language": "python",
      "name": "python3"
    },
    "language_info": {
      "name": "python",
      "version": "3.7.2"
    },
    "vscode": {
      "interpreter": {
        "hash": "81fc4fe6b793cb5b4bcff06b99978e692b7ee0de8231fbbb49d88c051225a5b3"
      }
    }
  },
  "nbformat": 4,
  "nbformat_minor": 0
}
